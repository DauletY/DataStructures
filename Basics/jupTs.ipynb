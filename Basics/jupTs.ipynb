{
 "cells": [
  {
   "cell_type": "code",
   "execution_count": 1,
   "metadata": {},
   "source": [
    "Func<int, int> com = (n) => { \n",
    "    for(int i = 0; i < n + 1; i++) {\n",
    "        n = i + 1;\n",
    "        Console.WriteLine(i);\n",
    "    }\n",
    "    return n;\n",
    "};\n",
    "com(10);\n",
    "\n",
    ""
   ],
   "outputs": [
    {
     "output_type": "execute_result",
     "data": {
      "text/plain": "0\r\n"
     },
     "execution_count": 1,
     "metadata": {}
    }
   ]
  },
  {
   "cell_type": "code",
   "execution_count": 1,
   "metadata": {},
   "source": [
    "Func<int, int> com = (n) => { \n",
    "    for(int i = 0; i <  2000 * n ; i++) {\n",
    "        for(int j = 0; j < n; j++)\n",
    "            Console.WriteLine(j);\n",
    "    }\n",
    "    return n;\n",
    "};\n",
    "com(10);\n",
    "\n",
    ""
   ],
   "outputs": []
  }
 ],
 "metadata": {
  "kernelspec": {
   "display_name": ".NET (C#)",
   "language": "C#",
   "name": ".net-csharp"
  },
  "language_info": {
   "file_extension": ".cs",
   "mimetype": "text/x-csharp",
   "name": "C#",
   "pygments_lexer": "csharp",
   "version": "8.0"
  }
 },
 "nbformat": 4,
 "nbformat_minor": 4
}