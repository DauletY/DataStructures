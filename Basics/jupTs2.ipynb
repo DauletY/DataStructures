{
 "cells": [
  {
   "cell_type": "code",
   "execution_count": 1,
   "metadata": {},
   "source": [
    "\n",
    "    int sum = 0;\n",
    " \n",
    "    for(int  i = 1; i <= 5; i++)\n",
    "    {\n",
    "        sum += i * i * i;\n",
    "    }\n",
    "    Console.Write( sum ); "
   ],
   "outputs": [
    {
     "output_type": "execute_result",
     "data": {
      "text/plain": "225"
     },
     "execution_count": 1,
     "metadata": {}
    }
   ]
  },
  {
   "cell_type": "code",
   "execution_count": 1,
   "metadata": {},
   "source": [
    "int S(int n) {\n",
    "    return n == 1 ? 1 : S(n - 1) + (n * n * n);\n",
    "    // this exp same   for i in 5 { sum += i * i * i }\n",
    "}\n",
    "\n",
    "Console.Write(S(5));"
   ],
   "outputs": [
    {
     "output_type": "execute_result",
     "data": {
      "text/plain": "225"
     },
     "execution_count": 1,
     "metadata": {}
    }
   ]
  },
  {
   "cell_type": "code",
   "execution_count": 1,
   "metadata": {},
   "source": [
    "int a = 2;\n",
    "for(int i = 1; i <= 5; i++) {\n",
    "    a += i * i;\n",
    "}\n",
    "Console.Write(a);"
   ],
   "outputs": [
    {
     "output_type": "execute_result",
     "data": {
      "text/plain": "57"
     },
     "execution_count": 1,
     "metadata": {}
    }
   ]
  }
 ],
 "metadata": {
  "kernelspec": {
   "display_name": ".NET (C#)",
   "language": "C#",
   "name": ".net-csharp"
  },
  "language_info": {
   "file_extension": ".cs",
   "mimetype": "text/x-csharp",
   "name": "C#",
   "pygments_lexer": "csharp",
   "version": "8.0"
  }
 },
 "nbformat": 4,
 "nbformat_minor": 4
}